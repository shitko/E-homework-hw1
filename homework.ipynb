{
 "cells": [
  {
   "cell_type": "markdown",
   "metadata": {},
   "source": [
    "### Задание 1"
   ]
  },
  {
   "cell_type": "code",
   "execution_count": 11,
   "metadata": {},
   "outputs": [
    {
     "name": "stdout",
     "output_type": "stream",
     "text": [
      "Фраза 1 длиннее фразы 2\n"
     ]
    }
   ],
   "source": [
    "phrase_1 = 'Насколько проще было бы писать программы, если бы не заказчики'\n",
    "phrase_2 = '640Кб должно хватить для любых задач. Билл Гейтс (по легенде)'\n",
    "if len(phrase_1)==len(phrase_2):\n",
    "    print('Фразы равной длины')\n",
    "elif len(phrase_1)>len(phrase_2):\n",
    "    print('Фраза 1 длиннее фразы 2')\n",
    "else:\n",
    "    print('Фраза 2 длиннее фразы 1')\n"
   ]
  },
  {
   "cell_type": "code",
   "execution_count": 12,
   "metadata": {},
   "outputs": [
    {
     "name": "stdout",
     "output_type": "stream",
     "text": [
      "Фраза 2 длиннее фразы 1\n"
     ]
    }
   ],
   "source": [
    "phrase_1 = '640Кб должно хватить для любых задач. Билл Гейтс (по легенде)'\n",
    "phrase_2 = 'Насколько проще было бы писать программы, если бы не заказчики'\n",
    "if len(phrase_1)==len(phrase_2):\n",
    "    print('Фразы равной длины')\n",
    "elif len(phrase_1)>len(phrase_2):\n",
    "    print('Фраза 1 длиннее фразы 2')\n",
    "else:\n",
    "    print('Фраза 2 длиннее фразы 1')"
   ]
  },
  {
   "cell_type": "code",
   "execution_count": 14,
   "metadata": {},
   "outputs": [
    {
     "name": "stdout",
     "output_type": "stream",
     "text": [
      "Фразы равной длины\n"
     ]
    }
   ],
   "source": [
    "phrase_1 = 'Насколько проще было бы писать программы, если бы не заказчики'\n",
    "phrase_2 = 'Насколько проще было бы писать программы, если бы не заказчики'\n",
    "if len(phrase_1)==len(phrase_2):\n",
    "    print('Фразы равной длины')\n",
    "elif len(phrase_1)>len(phrase_2):\n",
    "    print('Фраза 1 длиннее фразы 2')\n",
    "else:\n",
    "    print('Фраза 2 длиннее фразы 1')"
   ]
  },
  {
   "cell_type": "markdown",
   "metadata": {},
   "source": [
    "### Задание 2"
   ]
  },
  {
   "cell_type": "code",
   "execution_count": 16,
   "metadata": {},
   "outputs": [
    {
     "name": "stdout",
     "output_type": "stream",
     "text": [
      "Високосный год\n"
     ]
    }
   ],
   "source": [
    "year = 2020\n",
    "if year % 4 == 0:\n",
    "    print('Високосный год')\n",
    "else:\n",
    "    print('Обычный год')"
   ]
  },
  {
   "cell_type": "code",
   "execution_count": 17,
   "metadata": {},
   "outputs": [
    {
     "name": "stdout",
     "output_type": "stream",
     "text": [
      "Обычный год\n"
     ]
    }
   ],
   "source": [
    "year = 2019\n",
    "if year % 4 == 0:\n",
    "    print('Високосный год')\n",
    "else:\n",
    "    print('Обычный год')"
   ]
  },
  {
   "cell_type": "markdown",
   "metadata": {},
   "source": [
    "### Задание 3"
   ]
  },
  {
   "cell_type": "code",
   "execution_count": 24,
   "metadata": {},
   "outputs": [
    {
     "name": "stdout",
     "output_type": "stream",
     "text": [
      "Введите день: 30\n",
      "Введите месяц: Август\n",
      "Ваш знак зодиака: Дева\n"
     ]
    }
   ],
   "source": [
    "user_input_day=int(input('Введите день: '))\n",
    "user_input_month=str(input('Введите месяц: '))\n",
    "if (user_input_month=='Декабрь' and user_input_day>=22 or user_input_month=='Январь' and user_input_day<=20):\n",
    "    print('Ваш знак зодиака: Козерог')\n",
    "if (user_input_month=='Январь' and user_input_day>=21 or user_input_month=='Февраль' and user_input_day<=18):\n",
    "    print('Ваш знак зодиака: Водолей')\n",
    "if (user_input_month=='Февраль' and user_input_day>=19 or user_input_month=='Март' and user_input_day<=20):\n",
    "    print('Ваш знак зодиака: Рыбы')\n",
    "if (user_input_month=='Март' and user_input_day>=21 or user_input_month=='Апрель' and user_input_day<=19):\n",
    "    print('Ваш знак зодиака: Овен')\n",
    "if (user_input_month=='Апрель' and user_input_day>=20 or user_input_month=='Май' and user_input_day<=20):\n",
    "    print('Ваш знак зодиака: Телец')\n",
    "if (user_input_month=='Май' and user_input_day>=21 or user_input_month=='Июнь' and user_input_day<=21):\n",
    "    print('Ваш знак зодиака: Близнецы')\n",
    "if (user_input_month=='Июнь' and user_input_day>=22 or user_input_month=='Июль' and user_input_day<=22):\n",
    "    print('Ваш знак зодиака: Рак')\n",
    "if (user_input_month=='Июль' and user_input_day>=23 or user_input_month=='Август' and user_input_day<=22):\n",
    "    print('Ваш знак зодиака: Лев')\n",
    "if (user_input_month=='Август' and user_input_day>=23 or user_input_month=='Сентябрь' and user_input_day<=22):\n",
    "    print('Ваш знак зодиака: Дева')\n",
    "if (user_input_month=='Сентябрь' and user_input_day>=23 or user_input_month=='Октябрь' and user_input_day<=23):\n",
    "    print('Ваш знак зодиака: Весы')\n",
    "if (user_input_month=='Октябрь' and user_input_day>=24 or user_input_month=='Ноябрь' and user_input_day<=22):\n",
    "    print('Ваш знак зодиака: Скорпион')\n",
    "if (user_input_month=='Ноябрь' and user_input_day>=23 or user_input_month=='Декабрь' and user_input_day<=21):\n",
    "    print('Ваш знак зодиака: Стрелец')"
   ]
  },
  {
   "cell_type": "code",
   "execution_count": 25,
   "metadata": {},
   "outputs": [
    {
     "name": "stdout",
     "output_type": "stream",
     "text": [
      "Введите день: 29\n",
      "Введите месяц: Октябрь\n",
      "Ваш знак зодиака: Скорпион\n"
     ]
    }
   ],
   "source": [
    "user_input_day=int(input('Введите день: '))\n",
    "user_input_month=str(input('Введите месяц: '))\n",
    "if (user_input_month=='Декабрь' and user_input_day>=22 or user_input_month=='Январь' and user_input_day<=20):\n",
    "    print('Ваш знак зодиака: Козерог')\n",
    "if (user_input_month=='Январь' and user_input_day>=21 or user_input_month=='Февраль' and user_input_day<=18):\n",
    "    print('Ваш знак зодиака: Водолей')\n",
    "if (user_input_month=='Февраль' and user_input_day>=19 or user_input_month=='Март' and user_input_day<=20):\n",
    "    print('Ваш знак зодиака: Рыбы')\n",
    "if (user_input_month=='Март' and user_input_day>=21 or user_input_month=='Апрель' and user_input_day<=19):\n",
    "    print('Ваш знак зодиака: Овен')\n",
    "if (user_input_month=='Апрель' and user_input_day>=20 or user_input_month=='Май' and user_input_day<=20):\n",
    "    print('Ваш знак зодиака: Телец')\n",
    "if (user_input_month=='Май' and user_input_day>=21 or user_input_month=='Июнь' and user_input_day<=21):\n",
    "    print('Ваш знак зодиака: Близнецы')\n",
    "if (user_input_month=='Июнь' and user_input_day>=22 or user_input_month=='Июль' and user_input_day<=22):\n",
    "    print('Ваш знак зодиака: Рак')\n",
    "if (user_input_month=='Июль' and user_input_day>=23 or user_input_month=='Август' and user_input_day<=22):\n",
    "    print('Ваш знак зодиака: Лев')\n",
    "if (user_input_month=='Август' and user_input_day>=23 or user_input_month=='Сентябрь' and user_input_day<=22):\n",
    "    print('Ваш знак зодиака: Дева')\n",
    "if (user_input_month=='Сентябрь' and user_input_day>=23 or user_input_month=='Октябрь' and user_input_day<=23):\n",
    "    print('Ваш знак зодиака: Весы')\n",
    "if (user_input_month=='Октябрь' and user_input_day>=24 or user_input_month=='Ноябрь' and user_input_day<=22):\n",
    "    print('Ваш знак зодиака: Скорпион')\n",
    "if (user_input_month=='Ноябрь' and user_input_day>=23 or user_input_month=='Декабрь' and user_input_day<=21):\n",
    "    print('Ваш знак зодиака: Стрелец')"
   ]
  },
  {
   "cell_type": "markdown",
   "metadata": {},
   "source": [
    "### Задание 4"
   ]
  },
  {
   "cell_type": "code",
   "execution_count": 32,
   "metadata": {},
   "outputs": [
    {
     "name": "stdout",
     "output_type": "stream",
     "text": [
      "Упаковка для лыж\n"
     ]
    }
   ],
   "source": [
    "width = 10\n",
    "length = 205\n",
    "height = 5\n",
    "if (width<15 and length<15 and height<15):\n",
    "    print('Коробка №1')\n",
    "elif length>200:\n",
    "    print('Упаковка для лыж')\n",
    "elif(width<50 or length<50 or height<50):\n",
    "        print('Коробка №2')\n",
    "else:\n",
    "    print('Стандартная коробка №3')"
   ]
  }
 ],
 "metadata": {
  "kernelspec": {
   "display_name": "Python 3",
   "language": "python",
   "name": "python3"
  },
  "language_info": {
   "codemirror_mode": {
    "name": "ipython",
    "version": 3
   },
   "file_extension": ".py",
   "mimetype": "text/x-python",
   "name": "python",
   "nbconvert_exporter": "python",
   "pygments_lexer": "ipython3",
   "version": "3.8.5"
  }
 },
 "nbformat": 4,
 "nbformat_minor": 4
}
