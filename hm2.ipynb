{
 "cells": [
  {
   "cell_type": "markdown",
   "metadata": {},
   "source": [
    "### Задание 1"
   ]
  },
  {
   "cell_type": "code",
   "execution_count": 68,
   "metadata": {},
   "outputs": [
    {
     "name": "stdout",
     "output_type": "stream",
     "text": [
      "es\n"
     ]
    }
   ],
   "source": [
    "word = 'test'\n",
    "size=len(word)\n",
    "if size % 2 == 0 :   \n",
    "    print(word[int(size/2-1):int(size/2+1)])\n",
    "else:\n",
    "    print(word[int((size-1)/2)])\n",
    "    "
   ]
  },
  {
   "cell_type": "code",
   "execution_count": 1,
   "metadata": {},
   "outputs": [
    {
     "name": "stdout",
     "output_type": "stream",
     "text": [
      "t\n"
     ]
    }
   ],
   "source": [
    "word = 'testing'\n",
    "size=len(word)\n",
    "if size % 2 == 0 :   \n",
    "    print(word[int(size/2-1):int(size/2+1)])\n",
    "else:\n",
    "    print(word[int((size-1)/2)])"
   ]
  },
  {
   "cell_type": "markdown",
   "metadata": {},
   "source": [
    "### Задание 2"
   ]
  },
  {
   "cell_type": "code",
   "execution_count": 25,
   "metadata": {},
   "outputs": [
    {
     "name": "stdout",
     "output_type": "stream",
     "text": [
      "Введите число: 1\n",
      "Результат:  1\n",
      "Введите число: 4\n",
      "Результат:  5\n",
      "Введите число: 6\n",
      "Результат:  11\n",
      "Введите число: 0\n",
      "Результат:  11\n"
     ]
    }
   ],
   "source": [
    "summa=0\n",
    "num=1\n",
    "while num != 0: \n",
    "    num=int(input('Введите число: '))\n",
    "    summa += num\n",
    "    print('Результат: ',summa)"
   ]
  },
  {
   "cell_type": "markdown",
   "metadata": {},
   "source": [
    "### Задание 3"
   ]
  },
  {
   "cell_type": "code",
   "execution_count": 73,
   "metadata": {},
   "outputs": [
    {
     "name": "stdout",
     "output_type": "stream",
     "text": [
      "Результат:\n",
      "Идеальные пары:\n",
      "Alex и Emma\n",
      "Arthur и Kate\n",
      "John и Kira\n",
      "Peter и Liza\n",
      "Richard и Trisha\n"
     ]
    }
   ],
   "source": [
    "boys = ['Peter', 'Alex', 'John', 'Arthur', 'Richard']\n",
    "girls = ['Kate', 'Liza', 'Kira', 'Emma', 'Trisha']\n",
    "boys_sort=sorted(boys)\n",
    "girls_sort=sorted(girls)\n",
    "index=-1\n",
    "if len(boys_sort) == len(girls_sort):\n",
    "    print('Результат:')\n",
    "    print('Идеальные пары:')\n",
    "    while index+1 < len(boys_sort):       \n",
    "        index+=1        \n",
    "        print(boys_sort[index]+' и '+girls_sort[index])\n",
    "else:\n",
    "    print('Результат: Внимание, кто-то может остаться без пары!')"
   ]
  },
  {
   "cell_type": "code",
   "execution_count": 74,
   "metadata": {},
   "outputs": [
    {
     "name": "stdout",
     "output_type": "stream",
     "text": [
      "Результат: Внимание, кто-то может остаться без пары!\n"
     ]
    }
   ],
   "source": [
    "boys = ['Peter', 'Alex', 'John', 'Arthur', 'Richard', 'Michael']\n",
    "girls = ['Kate', 'Liza', 'Kira', 'Emma', 'Trisha']\n",
    "boys_sort=sorted(boys)\n",
    "girls_sort=sorted(girls)\n",
    "index=-1\n",
    "if len(boys_sort) == len(girls_sort):\n",
    "    print('Результат:')\n",
    "    print('Идеальные пары:')\n",
    "    while index+1 < len(boys_sort):       \n",
    "        index+=1        \n",
    "        print(boys_sort[index]+' и '+girls_sort[index])\n",
    "else:\n",
    "    print('Результат: Внимание, кто-то может остаться без пары!')"
   ]
  },
  {
   "cell_type": "markdown",
   "metadata": {},
   "source": [
    "### Задание 4"
   ]
  },
  {
   "cell_type": "code",
   "execution_count": 1,
   "metadata": {},
   "outputs": [
    {
     "name": "stdout",
     "output_type": "stream",
     "text": [
      "Средняя температура в странах:\n",
      "Thailand - 23.9 C\n",
      "Germany - 13.8 C\n",
      "Russia - 3.7 C\n",
      "Poland - 12.0 C\n"
     ]
    }
   ],
   "source": [
    "countries_temperature = [['Thailand', [75.2, 77, 78.8, 73.4, 68, 75.2, 77]],['Germany', [57.2, 55.4, 59, 59, 53.6]],['Russia', [35.6, 37.4, 39.2, 41, 42.8, 39.2, 35.6]],['Poland', [50, 50, 53.6, 57.2, 55.4, 55.4]]]\n",
    "print('Средняя температура в странах:')\n",
    "for i in countries_temperature:\n",
    "    print(i[0], \"-\", round((sum(i[1])/len(i[1])-32)*5/9, 1), 'C')\n"
   ]
  }
 ],
 "metadata": {
  "kernelspec": {
   "display_name": "Python 3",
   "language": "python",
   "name": "python3"
  },
  "language_info": {
   "codemirror_mode": {
    "name": "ipython",
    "version": 3
   },
   "file_extension": ".py",
   "mimetype": "text/x-python",
   "name": "python",
   "nbconvert_exporter": "python",
   "pygments_lexer": "ipython3",
   "version": "3.8.5"
  }
 },
 "nbformat": 4,
 "nbformat_minor": 4
}
